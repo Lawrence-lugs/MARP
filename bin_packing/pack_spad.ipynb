{
 "cells": [
  {
   "cell_type": "markdown",
   "metadata": {},
   "source": [
    "Notebook for testing random things in this folder"
   ]
  },
  {
   "cell_type": "code",
   "execution_count": null,
   "metadata": {},
   "outputs": [],
   "source": [
    "from rectpack import newPacker\n",
    "\n",
    "rectangles = [(100, 30), (40, 60), (30, 30),(70, 70), (100, 50), (30, 30)]\n",
    "bins = [(100, 100), (100, 100), (100, 100), (100,100), (100,100)]\n",
    "\n",
    "packer = newPacker()\n",
    "\n",
    "#packing queue\n",
    "for r in rectangles:\n",
    "    packer.add_rect(*r)\n",
    "\n",
    "# we can add rectangle IDs as follows\n",
    "# packer.add_rect(width,height[,rid]) \n",
    "\n",
    "for b in bins:\n",
    "    packer.add_bin(*b)\n",
    "\n",
    "packer.pack()"
   ]
  }
 ],
 "metadata": {
  "kernelspec": {
   "display_name": "icdec",
   "language": "python",
   "name": "python3"
  },
  "language_info": {
   "name": "python",
   "version": "3.13.1"
  }
 },
 "nbformat": 4,
 "nbformat_minor": 2
}
